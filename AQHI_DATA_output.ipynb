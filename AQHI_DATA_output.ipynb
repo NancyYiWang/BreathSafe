{
 "cells": [
  {
   "cell_type": "code",
   "execution_count": null,
   "id": "23269c1e",
   "metadata": {
    "papermill": {
     "duration": null,
     "end_time": null,
     "exception": null,
     "start_time": null,
     "status": "completed"
    },
    "tags": []
   },
   "outputs": [],
   "source": [
    "! pip install geopandas numpy rasterio pyproj shapely scipy xarray"
   ]
  },
  {
   "cell_type": "code",
   "execution_count": null,
   "id": "e13ac69c",
   "metadata": {
    "papermill": {
     "duration": null,
     "end_time": null,
     "exception": null,
     "start_time": null,
     "status": "completed"
    },
    "tags": []
   },
   "outputs": [],
   "source": [
    "import requests\n",
    "import json\n",
    "import geopandas as gpd\n",
    "import pandas as pd\n",
    "import numpy as np\n",
    "import rasterio\n",
    "import xarray as xr\n",
    "from datetime import datetime\n",
    "from geojson import Feature, FeatureCollection, Point\n",
    "from rasterio.transform import from_origin\n",
    "from shapely.geometry import Point\n",
    "from pyproj import Transformer\n",
    "from scipy.spatial import cKDTree"
   ]
  },
  {
   "cell_type": "code",
   "execution_count": null,
   "id": "71d56fde",
   "metadata": {
    "papermill": {
     "duration": null,
     "end_time": null,
     "exception": null,
     "start_time": null,
     "status": "completed"
    },
    "tags": []
   },
   "outputs": [],
   "source": [
    "url = \"https://api.weather.gc.ca/collections/aqhi-forecasts-realtime/items?f=json&limit=100000\"\n",
    "response = requests.get(url)\n",
    "data = response.json()"
   ]
  },
  {
   "cell_type": "code",
   "execution_count": null,
   "id": "f5fcb37f",
   "metadata": {
    "papermill": {
     "duration": null,
     "end_time": null,
     "exception": null,
     "start_time": null,
     "status": "completed"
    },
    "tags": []
   },
   "outputs": [],
   "source": [
    "print(json.dumps(data, indent=2))"
   ]
  },
  {
   "cell_type": "code",
   "execution_count": null,
   "id": "0d5111b4",
   "metadata": {
    "papermill": {
     "duration": null,
     "end_time": null,
     "exception": null,
     "start_time": null,
     "status": "completed"
    },
    "tags": []
   },
   "outputs": [],
   "source": [
    "features = []\n",
    "\n",
    "for item in data.get(\"features\", []):\n",
    "    props = item[\"properties\"]\n",
    "    geom = item[\"geometry\"]\n",
    "\n",
    "    feature = Feature(\n",
    "        geometry=Point((geom[\"coordinates\"][0], geom[\"coordinates\"][1])),\n",
    "        properties={\n",
    "            \"location\": props.get(\"location_name_en\", \"Unknown\"),\n",
    "            \"location_id\": props.get(\"location_id\", \"N/A\"),\n",
    "            \"aqhi\": props.get(\"aqhi\", -1),\n",
    "            \"forecast_time\": props.get(\"forecast_datetime\", \"Unknown\"),\n",
    "            \"forecast_issue\": props.get(\"publication_datetime\", \"Unknown\")\n",
    "        }\n",
    "    )\n",
    "    features.append(feature)\n",
    "\n",
    "geojson_data = FeatureCollection(features)"
   ]
  },
  {
   "cell_type": "code",
   "execution_count": null,
   "id": "6a4d668b",
   "metadata": {
    "papermill": {
     "duration": null,
     "end_time": null,
     "exception": null,
     "start_time": null,
     "status": "completed"
    },
    "tags": []
   },
   "outputs": [],
   "source": [
    "gdf = gpd.GeoDataFrame.from_features(geojson_data.features)\n",
    "\n",
    "gdf.head(50)"
   ]
  },
  {
   "cell_type": "code",
   "execution_count": null,
   "id": "594fa33e",
   "metadata": {
    "papermill": {
     "duration": null,
     "end_time": null,
     "exception": null,
     "start_time": null,
     "status": "completed"
    },
    "tags": []
   },
   "outputs": [],
   "source": [
    "gdf[\"forecast_time\"] = pd.to_datetime(gdf[\"forecast_time\"])\n",
    "gdf[\"forecast_issue\"] = pd.to_datetime(gdf[\"forecast_issue\"])\n",
    "\n",
    "gdf[\"hours_after_issue\"] = (gdf[\"forecast_time\"] - gdf[\"forecast_issue\"]).dt.total_seconds() / 3600\n",
    "gdf_filtered = gdf[gdf[\"hours_after_issue\"] == 1].copy()\n",
    "gdf_filtered.drop(columns=[\"hours_after_issue\"], inplace=True)\n",
    "\n",
    "gdf_filtered.head(10)"
   ]
  },
  {
   "cell_type": "code",
   "execution_count": null,
   "id": "45bed835",
   "metadata": {
    "papermill": {
     "duration": null,
     "end_time": null,
     "exception": null,
     "start_time": null,
     "status": "completed"
    },
    "tags": []
   },
   "outputs": [],
   "source": [
    "gdf_filtered.to_file(\"data/aqhi_forecast.geojson\", driver=\"GeoJSON\")\n",
    "\n",
    "print(f\"Saved {len(gdf_filtered)} AQHI forecast points to file aqhi_forecast.geojson\")"
   ]
  },
  {
   "cell_type": "code",
   "execution_count": null,
   "id": "2ededdd6",
   "metadata": {
    "papermill": {
     "duration": null,
     "end_time": null,
     "exception": null,
     "start_time": null,
     "status": "completed"
    },
    "tags": []
   },
   "outputs": [],
   "source": [
    "def interpolate_aqhi_from_gdf(\n",
    "    gdf: gpd.GeoDataFrame, \n",
    "    grid_res: int = 2000, \n",
    "    k: int = 10, \n",
    "    power: int = 2\n",
    ") -> xr.DataArray:\n",
    "    \n",
    "    gdf = gdf[gdf.geometry.notnull()].copy()\n",
    "    gdf = gdf[gdf[\"aqhi\"].notnull()].copy()\n",
    "    gdf.set_crs(epsg=4326, inplace=True, allow_override=True)\n",
    "    gdf = gdf.to_crs(epsg=3978)\n",
    "\n",
    "    coords = np.array([[geom.x, geom.y] for geom in gdf.geometry])\n",
    "    values = gdf[\"aqhi\"].astype(float).values\n",
    "\n",
    "    valid_mask = np.isfinite(coords).all(axis=1) & np.isfinite(values)\n",
    "    coords = coords[valid_mask]\n",
    "    values = values[valid_mask]\n",
    "\n",
    "    if len(coords) == 0:\n",
    "        raise ValueError(\"Interpolation failed: no valid AQHI monitoring points found.\")\n",
    "\n",
    "    xmin, ymin, xmax, ymax = gdf.total_bounds\n",
    "    if np.isnan([xmin, ymin, xmax, ymax]).any():\n",
    "        raise ValueError(\"NaN detected in total_bounds.\")\n",
    "\n",
    "    x_coords = np.arange(xmin, xmax, grid_res)\n",
    "    y_coords = np.arange(ymin, ymax, grid_res)\n",
    "    xx, yy = np.meshgrid(x_coords, y_coords)\n",
    "    grid_points = np.c_[xx.ravel(), yy.ravel()]\n",
    "\n",
    "    def idw_interpolation(xy_known, values_known, xy_grid, k=10, power=2):\n",
    "        tree = cKDTree(xy_known)\n",
    "        dists, idxs = tree.query(xy_grid, k=k)\n",
    "        weights = 1 / np.power(dists + 1e-10, power)\n",
    "        return np.sum(weights * values_known[idxs], axis=1) / np.sum(weights, axis=1)\n",
    "\n",
    "    interpolated_vals = idw_interpolation(coords, values, grid_points)\n",
    "    grid_array = interpolated_vals.reshape((len(y_coords), len(x_coords)))\n",
    "\n",
    "    da = xr.DataArray(\n",
    "        grid_array,\n",
    "        coords={\"y\": yy[:, 0], \"x\": xx[0, :]},\n",
    "        dims=[\"y\", \"x\"],\n",
    "        name=\"aqhi\"\n",
    "    )\n",
    "\n",
    "    return da"
   ]
  },
  {
   "cell_type": "code",
   "execution_count": null,
   "id": "b6008b94",
   "metadata": {
    "papermill": {
     "duration": null,
     "end_time": null,
     "exception": null,
     "start_time": null,
     "status": "completed"
    },
    "tags": []
   },
   "outputs": [],
   "source": [
    "aqhi_grid = interpolate_aqhi_from_gdf(gdf_filtered, grid_res=2000)\n",
    "aqhi_grid.plot()"
   ]
  },
  {
   "cell_type": "code",
   "execution_count": null,
   "id": "ddff5de5",
   "metadata": {
    "papermill": {
     "duration": null,
     "end_time": null,
     "exception": null,
     "start_time": null,
     "status": "completed"
    },
    "tags": []
   },
   "outputs": [],
   "source": [
    "aqhi_grid.to_netcdf(\"data/aqhi_grid.nc\")"
   ]
  }
 ],
 "metadata": {
  "kernelspec": {
   "display_name": "Python 3",
   "language": "python",
   "name": "python3"
  },
  "language_info": {
   "codemirror_mode": {
    "name": "ipython",
    "version": 3
   },
   "file_extension": ".py",
   "mimetype": "text/x-python",
   "name": "python",
   "nbconvert_exporter": "python",
   "pygments_lexer": "ipython3",
   "version": "3.12.3"
  },
  "papermill": {
   "default_parameters": {},
   "duration": 0.002406,
   "end_time": "2025-04-23T23:48:20.221718",
   "environment_variables": {},
   "exception": null,
   "input_path": "/Users/yiwang/Desktop/BreathSafe/AQHI_DATA.ipynb",
   "output_path": "/Users/yiwang/Desktop/BreathSafe/AQHI_DATA_output.ipynb",
   "parameters": {},
   "start_time": "2025-04-23T23:48:20.219312",
   "version": "2.6.0"
  }
 },
 "nbformat": 4,
 "nbformat_minor": 5
}